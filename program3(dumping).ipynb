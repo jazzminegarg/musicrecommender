{
 "cells": [
  {
   "cell_type": "code",
   "execution_count": 2,
   "id": "a4ac49ed",
   "metadata": {},
   "outputs": [
    {
     "data": {
      "text/plain": [
       "['music-recommender.joblib']"
      ]
     },
     "execution_count": 2,
     "metadata": {},
     "output_type": "execute_result"
    }
   ],
   "source": [
    "import pandas as pd\n",
    "from sklearn.tree import DecisionTreeClassifier\n",
    "import joblib\n",
    "#if gives error use 'from sklearn.externals import joblib'\n",
    "#joblib object has method for saving and loading models\n",
    "\n",
    "music_data=pd.read_csv('music.csv')\n",
    "X=music_data.drop(columns=['genre'])\n",
    "y=music_data['genre']\n",
    "model=DecisionTreeClassifier()\n",
    "model.fit(X,y)\n",
    "joblib.dump(model,'music-recommender.joblib')#return value is an array containing the name of the file\n",
    "#creates a binary file"
   ]
  },
  {
   "cell_type": "code",
   "execution_count": null,
   "id": "f83986fa",
   "metadata": {},
   "outputs": [],
   "source": []
  }
 ],
 "metadata": {
  "kernelspec": {
   "display_name": "Python 3 (ipykernel)",
   "language": "python",
   "name": "python3"
  },
  "language_info": {
   "codemirror_mode": {
    "name": "ipython",
    "version": 3
   },
   "file_extension": ".py",
   "mimetype": "text/x-python",
   "name": "python",
   "nbconvert_exporter": "python",
   "pygments_lexer": "ipython3",
   "version": "3.10.9"
  }
 },
 "nbformat": 4,
 "nbformat_minor": 5
}
